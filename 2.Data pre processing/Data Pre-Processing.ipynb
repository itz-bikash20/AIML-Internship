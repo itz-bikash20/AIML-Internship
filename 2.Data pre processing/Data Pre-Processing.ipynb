{
 "cells": [
  {
   "cell_type": "markdown",
   "id": "9f560c2e-ce87-445a-b38a-792ea9d323fa",
   "metadata": {},
   "source": [
    "# 1.Import Neccessary Libraries"
   ]
  },
  {
   "cell_type": "code",
   "execution_count": 1,
   "id": "bbb72056-cf18-47c9-8b78-a4add77f0b37",
   "metadata": {},
   "outputs": [],
   "source": [
    "import numpy as np\n",
    "import pandas as pd"
   ]
  },
  {
   "cell_type": "markdown",
   "id": "3f34d7c0-c724-4fa7-a5f7-6a1e5a579e37",
   "metadata": {},
   "source": [
    "# 2.Read or Load File:"
   ]
  },
  {
   "cell_type": "code",
   "execution_count": 2,
   "id": "97836223-abe6-4bac-87f9-f01b406f4071",
   "metadata": {},
   "outputs": [],
   "source": [
    "df=pd.read_csv(\"HumanBodyPerformance.csv\")"
   ]
  },
  {
   "cell_type": "code",
   "execution_count": 3,
   "id": "58ca37ab-b63b-4ea5-b6fc-60afb168007d",
   "metadata": {},
   "outputs": [
    {
     "data": {
      "text/html": [
       "<div>\n",
       "<style scoped>\n",
       "    .dataframe tbody tr th:only-of-type {\n",
       "        vertical-align: middle;\n",
       "    }\n",
       "\n",
       "    .dataframe tbody tr th {\n",
       "        vertical-align: top;\n",
       "    }\n",
       "\n",
       "    .dataframe thead th {\n",
       "        text-align: right;\n",
       "    }\n",
       "</style>\n",
       "<table border=\"1\" class=\"dataframe\">\n",
       "  <thead>\n",
       "    <tr style=\"text-align: right;\">\n",
       "      <th></th>\n",
       "      <th>age</th>\n",
       "      <th>gender</th>\n",
       "      <th>height_cm</th>\n",
       "      <th>weight_kg</th>\n",
       "      <th>body fat_%</th>\n",
       "      <th>diastolic</th>\n",
       "      <th>systolic</th>\n",
       "      <th>gripForce</th>\n",
       "      <th>sit and bend forward_cm</th>\n",
       "      <th>sit-ups counts</th>\n",
       "      <th>broad jump_cm</th>\n",
       "      <th>class</th>\n",
       "    </tr>\n",
       "  </thead>\n",
       "  <tbody>\n",
       "    <tr>\n",
       "      <th>0</th>\n",
       "      <td>27.0</td>\n",
       "      <td>M</td>\n",
       "      <td>172.3</td>\n",
       "      <td>75.24</td>\n",
       "      <td>21.3</td>\n",
       "      <td>80.0</td>\n",
       "      <td>130.0</td>\n",
       "      <td>54.9</td>\n",
       "      <td>18.4</td>\n",
       "      <td>60.0</td>\n",
       "      <td>217.0</td>\n",
       "      <td>C</td>\n",
       "    </tr>\n",
       "    <tr>\n",
       "      <th>1</th>\n",
       "      <td>25.0</td>\n",
       "      <td>M</td>\n",
       "      <td>165.0</td>\n",
       "      <td>55.80</td>\n",
       "      <td>15.7</td>\n",
       "      <td>77.0</td>\n",
       "      <td>126.0</td>\n",
       "      <td>36.4</td>\n",
       "      <td>16.3</td>\n",
       "      <td>53.0</td>\n",
       "      <td>229.0</td>\n",
       "      <td>A</td>\n",
       "    </tr>\n",
       "    <tr>\n",
       "      <th>2</th>\n",
       "      <td>31.0</td>\n",
       "      <td>M</td>\n",
       "      <td>179.6</td>\n",
       "      <td>78.00</td>\n",
       "      <td>20.1</td>\n",
       "      <td>92.0</td>\n",
       "      <td>152.0</td>\n",
       "      <td>44.8</td>\n",
       "      <td>12.0</td>\n",
       "      <td>49.0</td>\n",
       "      <td>181.0</td>\n",
       "      <td>C</td>\n",
       "    </tr>\n",
       "    <tr>\n",
       "      <th>3</th>\n",
       "      <td>32.0</td>\n",
       "      <td>M</td>\n",
       "      <td>174.5</td>\n",
       "      <td>71.10</td>\n",
       "      <td>18.4</td>\n",
       "      <td>76.0</td>\n",
       "      <td>147.0</td>\n",
       "      <td>41.4</td>\n",
       "      <td>15.2</td>\n",
       "      <td>53.0</td>\n",
       "      <td>219.0</td>\n",
       "      <td>B</td>\n",
       "    </tr>\n",
       "    <tr>\n",
       "      <th>4</th>\n",
       "      <td>28.0</td>\n",
       "      <td>M</td>\n",
       "      <td>173.8</td>\n",
       "      <td>67.70</td>\n",
       "      <td>17.1</td>\n",
       "      <td>70.0</td>\n",
       "      <td>127.0</td>\n",
       "      <td>43.5</td>\n",
       "      <td>27.1</td>\n",
       "      <td>45.0</td>\n",
       "      <td>217.0</td>\n",
       "      <td>B</td>\n",
       "    </tr>\n",
       "    <tr>\n",
       "      <th>...</th>\n",
       "      <td>...</td>\n",
       "      <td>...</td>\n",
       "      <td>...</td>\n",
       "      <td>...</td>\n",
       "      <td>...</td>\n",
       "      <td>...</td>\n",
       "      <td>...</td>\n",
       "      <td>...</td>\n",
       "      <td>...</td>\n",
       "      <td>...</td>\n",
       "      <td>...</td>\n",
       "      <td>...</td>\n",
       "    </tr>\n",
       "    <tr>\n",
       "      <th>13388</th>\n",
       "      <td>25.0</td>\n",
       "      <td>M</td>\n",
       "      <td>172.1</td>\n",
       "      <td>71.80</td>\n",
       "      <td>16.2</td>\n",
       "      <td>74.0</td>\n",
       "      <td>141.0</td>\n",
       "      <td>35.8</td>\n",
       "      <td>17.4</td>\n",
       "      <td>47.0</td>\n",
       "      <td>198.0</td>\n",
       "      <td>C</td>\n",
       "    </tr>\n",
       "    <tr>\n",
       "      <th>13389</th>\n",
       "      <td>21.0</td>\n",
       "      <td>M</td>\n",
       "      <td>179.7</td>\n",
       "      <td>63.90</td>\n",
       "      <td>12.1</td>\n",
       "      <td>74.0</td>\n",
       "      <td>128.0</td>\n",
       "      <td>33.0</td>\n",
       "      <td>1.1</td>\n",
       "      <td>48.0</td>\n",
       "      <td>167.0</td>\n",
       "      <td>D</td>\n",
       "    </tr>\n",
       "    <tr>\n",
       "      <th>13390</th>\n",
       "      <td>39.0</td>\n",
       "      <td>M</td>\n",
       "      <td>177.2</td>\n",
       "      <td>80.50</td>\n",
       "      <td>20.1</td>\n",
       "      <td>78.0</td>\n",
       "      <td>132.0</td>\n",
       "      <td>63.5</td>\n",
       "      <td>16.4</td>\n",
       "      <td>45.0</td>\n",
       "      <td>229.0</td>\n",
       "      <td>A</td>\n",
       "    </tr>\n",
       "    <tr>\n",
       "      <th>13391</th>\n",
       "      <td>64.0</td>\n",
       "      <td>F</td>\n",
       "      <td>146.1</td>\n",
       "      <td>57.70</td>\n",
       "      <td>40.4</td>\n",
       "      <td>68.0</td>\n",
       "      <td>121.0</td>\n",
       "      <td>19.3</td>\n",
       "      <td>9.2</td>\n",
       "      <td>0.0</td>\n",
       "      <td>75.0</td>\n",
       "      <td>D</td>\n",
       "    </tr>\n",
       "    <tr>\n",
       "      <th>13392</th>\n",
       "      <td>34.0</td>\n",
       "      <td>M</td>\n",
       "      <td>164.0</td>\n",
       "      <td>66.10</td>\n",
       "      <td>19.5</td>\n",
       "      <td>82.0</td>\n",
       "      <td>150.0</td>\n",
       "      <td>35.9</td>\n",
       "      <td>7.1</td>\n",
       "      <td>51.0</td>\n",
       "      <td>180.0</td>\n",
       "      <td>C</td>\n",
       "    </tr>\n",
       "  </tbody>\n",
       "</table>\n",
       "<p>13393 rows × 12 columns</p>\n",
       "</div>"
      ],
      "text/plain": [
       "        age gender  height_cm  weight_kg  body fat_%  diastolic  systolic  \\\n",
       "0      27.0      M      172.3      75.24        21.3       80.0     130.0   \n",
       "1      25.0      M      165.0      55.80        15.7       77.0     126.0   \n",
       "2      31.0      M      179.6      78.00        20.1       92.0     152.0   \n",
       "3      32.0      M      174.5      71.10        18.4       76.0     147.0   \n",
       "4      28.0      M      173.8      67.70        17.1       70.0     127.0   \n",
       "...     ...    ...        ...        ...         ...        ...       ...   \n",
       "13388  25.0      M      172.1      71.80        16.2       74.0     141.0   \n",
       "13389  21.0      M      179.7      63.90        12.1       74.0     128.0   \n",
       "13390  39.0      M      177.2      80.50        20.1       78.0     132.0   \n",
       "13391  64.0      F      146.1      57.70        40.4       68.0     121.0   \n",
       "13392  34.0      M      164.0      66.10        19.5       82.0     150.0   \n",
       "\n",
       "       gripForce  sit and bend forward_cm  sit-ups counts  broad jump_cm class  \n",
       "0           54.9                     18.4            60.0          217.0     C  \n",
       "1           36.4                     16.3            53.0          229.0     A  \n",
       "2           44.8                     12.0            49.0          181.0     C  \n",
       "3           41.4                     15.2            53.0          219.0     B  \n",
       "4           43.5                     27.1            45.0          217.0     B  \n",
       "...          ...                      ...             ...            ...   ...  \n",
       "13388       35.8                     17.4            47.0          198.0     C  \n",
       "13389       33.0                      1.1            48.0          167.0     D  \n",
       "13390       63.5                     16.4            45.0          229.0     A  \n",
       "13391       19.3                      9.2             0.0           75.0     D  \n",
       "13392       35.9                      7.1            51.0          180.0     C  \n",
       "\n",
       "[13393 rows x 12 columns]"
      ]
     },
     "execution_count": 3,
     "metadata": {},
     "output_type": "execute_result"
    }
   ],
   "source": [
    "df"
   ]
  },
  {
   "cell_type": "code",
   "execution_count": 4,
   "id": "fc582f33-c466-4abb-8f24-6e6033f3aa06",
   "metadata": {},
   "outputs": [
    {
     "data": {
      "text/plain": [
       "(13393, 12)"
      ]
     },
     "execution_count": 4,
     "metadata": {},
     "output_type": "execute_result"
    }
   ],
   "source": [
    "df.shape"
   ]
  },
  {
   "cell_type": "code",
   "execution_count": 5,
   "id": "dbf505a7-d467-41ab-9bbd-68a964991d4b",
   "metadata": {},
   "outputs": [
    {
     "name": "stdout",
     "output_type": "stream",
     "text": [
      "<class 'pandas.core.frame.DataFrame'>\n",
      "RangeIndex: 13393 entries, 0 to 13392\n",
      "Data columns (total 12 columns):\n",
      " #   Column                   Non-Null Count  Dtype  \n",
      "---  ------                   --------------  -----  \n",
      " 0   age                      13393 non-null  float64\n",
      " 1   gender                   13393 non-null  object \n",
      " 2   height_cm                13393 non-null  float64\n",
      " 3   weight_kg                13393 non-null  float64\n",
      " 4   body fat_%               13393 non-null  float64\n",
      " 5   diastolic                13393 non-null  float64\n",
      " 6   systolic                 13393 non-null  float64\n",
      " 7   gripForce                13393 non-null  float64\n",
      " 8   sit and bend forward_cm  13393 non-null  float64\n",
      " 9   sit-ups counts           13393 non-null  float64\n",
      " 10  broad jump_cm            13393 non-null  float64\n",
      " 11  class                    13393 non-null  object \n",
      "dtypes: float64(10), object(2)\n",
      "memory usage: 1.2+ MB\n"
     ]
    }
   ],
   "source": [
    "df.info()"
   ]
  },
  {
   "cell_type": "markdown",
   "id": "d6efd647-b130-48ed-95a1-e9762ead98f2",
   "metadata": {},
   "source": [
    "# Describe Sta."
   ]
  },
  {
   "cell_type": "code",
   "execution_count": 6,
   "id": "727563d8-5571-461e-b8f2-8bfed651c183",
   "metadata": {},
   "outputs": [
    {
     "data": {
      "text/html": [
       "<div>\n",
       "<style scoped>\n",
       "    .dataframe tbody tr th:only-of-type {\n",
       "        vertical-align: middle;\n",
       "    }\n",
       "\n",
       "    .dataframe tbody tr th {\n",
       "        vertical-align: top;\n",
       "    }\n",
       "\n",
       "    .dataframe thead th {\n",
       "        text-align: right;\n",
       "    }\n",
       "</style>\n",
       "<table border=\"1\" class=\"dataframe\">\n",
       "  <thead>\n",
       "    <tr style=\"text-align: right;\">\n",
       "      <th></th>\n",
       "      <th>age</th>\n",
       "      <th>height_cm</th>\n",
       "      <th>weight_kg</th>\n",
       "      <th>body fat_%</th>\n",
       "      <th>diastolic</th>\n",
       "      <th>systolic</th>\n",
       "      <th>gripForce</th>\n",
       "      <th>sit and bend forward_cm</th>\n",
       "      <th>sit-ups counts</th>\n",
       "      <th>broad jump_cm</th>\n",
       "    </tr>\n",
       "  </thead>\n",
       "  <tbody>\n",
       "    <tr>\n",
       "      <th>count</th>\n",
       "      <td>13393.000000</td>\n",
       "      <td>13393.000000</td>\n",
       "      <td>13393.000000</td>\n",
       "      <td>13393.000000</td>\n",
       "      <td>13393.000000</td>\n",
       "      <td>13393.000000</td>\n",
       "      <td>13393.000000</td>\n",
       "      <td>13393.000000</td>\n",
       "      <td>13393.000000</td>\n",
       "      <td>13393.000000</td>\n",
       "    </tr>\n",
       "    <tr>\n",
       "      <th>mean</th>\n",
       "      <td>36.775106</td>\n",
       "      <td>168.559807</td>\n",
       "      <td>67.447316</td>\n",
       "      <td>23.240165</td>\n",
       "      <td>78.796842</td>\n",
       "      <td>130.234817</td>\n",
       "      <td>36.963877</td>\n",
       "      <td>15.209268</td>\n",
       "      <td>39.771224</td>\n",
       "      <td>190.129627</td>\n",
       "    </tr>\n",
       "    <tr>\n",
       "      <th>std</th>\n",
       "      <td>13.625639</td>\n",
       "      <td>8.426583</td>\n",
       "      <td>11.949666</td>\n",
       "      <td>7.256844</td>\n",
       "      <td>10.742033</td>\n",
       "      <td>14.713954</td>\n",
       "      <td>10.624864</td>\n",
       "      <td>8.456677</td>\n",
       "      <td>14.276698</td>\n",
       "      <td>39.868000</td>\n",
       "    </tr>\n",
       "    <tr>\n",
       "      <th>min</th>\n",
       "      <td>21.000000</td>\n",
       "      <td>125.000000</td>\n",
       "      <td>26.300000</td>\n",
       "      <td>3.000000</td>\n",
       "      <td>0.000000</td>\n",
       "      <td>0.000000</td>\n",
       "      <td>0.000000</td>\n",
       "      <td>-25.000000</td>\n",
       "      <td>0.000000</td>\n",
       "      <td>0.000000</td>\n",
       "    </tr>\n",
       "    <tr>\n",
       "      <th>25%</th>\n",
       "      <td>25.000000</td>\n",
       "      <td>162.400000</td>\n",
       "      <td>58.200000</td>\n",
       "      <td>18.000000</td>\n",
       "      <td>71.000000</td>\n",
       "      <td>120.000000</td>\n",
       "      <td>27.500000</td>\n",
       "      <td>10.900000</td>\n",
       "      <td>30.000000</td>\n",
       "      <td>162.000000</td>\n",
       "    </tr>\n",
       "    <tr>\n",
       "      <th>50%</th>\n",
       "      <td>32.000000</td>\n",
       "      <td>169.200000</td>\n",
       "      <td>67.400000</td>\n",
       "      <td>22.800000</td>\n",
       "      <td>79.000000</td>\n",
       "      <td>130.000000</td>\n",
       "      <td>37.900000</td>\n",
       "      <td>16.200000</td>\n",
       "      <td>41.000000</td>\n",
       "      <td>193.000000</td>\n",
       "    </tr>\n",
       "    <tr>\n",
       "      <th>75%</th>\n",
       "      <td>48.000000</td>\n",
       "      <td>174.800000</td>\n",
       "      <td>75.300000</td>\n",
       "      <td>28.000000</td>\n",
       "      <td>86.000000</td>\n",
       "      <td>141.000000</td>\n",
       "      <td>45.200000</td>\n",
       "      <td>20.700000</td>\n",
       "      <td>50.000000</td>\n",
       "      <td>221.000000</td>\n",
       "    </tr>\n",
       "    <tr>\n",
       "      <th>max</th>\n",
       "      <td>64.000000</td>\n",
       "      <td>193.800000</td>\n",
       "      <td>138.100000</td>\n",
       "      <td>78.400000</td>\n",
       "      <td>156.200000</td>\n",
       "      <td>201.000000</td>\n",
       "      <td>70.500000</td>\n",
       "      <td>213.000000</td>\n",
       "      <td>80.000000</td>\n",
       "      <td>303.000000</td>\n",
       "    </tr>\n",
       "  </tbody>\n",
       "</table>\n",
       "</div>"
      ],
      "text/plain": [
       "                age     height_cm     weight_kg    body fat_%     diastolic  \\\n",
       "count  13393.000000  13393.000000  13393.000000  13393.000000  13393.000000   \n",
       "mean      36.775106    168.559807     67.447316     23.240165     78.796842   \n",
       "std       13.625639      8.426583     11.949666      7.256844     10.742033   \n",
       "min       21.000000    125.000000     26.300000      3.000000      0.000000   \n",
       "25%       25.000000    162.400000     58.200000     18.000000     71.000000   \n",
       "50%       32.000000    169.200000     67.400000     22.800000     79.000000   \n",
       "75%       48.000000    174.800000     75.300000     28.000000     86.000000   \n",
       "max       64.000000    193.800000    138.100000     78.400000    156.200000   \n",
       "\n",
       "           systolic     gripForce  sit and bend forward_cm  sit-ups counts  \\\n",
       "count  13393.000000  13393.000000             13393.000000    13393.000000   \n",
       "mean     130.234817     36.963877                15.209268       39.771224   \n",
       "std       14.713954     10.624864                 8.456677       14.276698   \n",
       "min        0.000000      0.000000               -25.000000        0.000000   \n",
       "25%      120.000000     27.500000                10.900000       30.000000   \n",
       "50%      130.000000     37.900000                16.200000       41.000000   \n",
       "75%      141.000000     45.200000                20.700000       50.000000   \n",
       "max      201.000000     70.500000               213.000000       80.000000   \n",
       "\n",
       "       broad jump_cm  \n",
       "count   13393.000000  \n",
       "mean      190.129627  \n",
       "std        39.868000  \n",
       "min         0.000000  \n",
       "25%       162.000000  \n",
       "50%       193.000000  \n",
       "75%       221.000000  \n",
       "max       303.000000  "
      ]
     },
     "execution_count": 6,
     "metadata": {},
     "output_type": "execute_result"
    }
   ],
   "source": [
    "df.describe()"
   ]
  },
  {
   "cell_type": "code",
   "execution_count": 7,
   "id": "6bb956f3-44ea-44fb-a74b-4645621343b1",
   "metadata": {},
   "outputs": [
    {
     "data": {
      "text/plain": [
       "36.77510639886508"
      ]
     },
     "execution_count": 7,
     "metadata": {},
     "output_type": "execute_result"
    }
   ],
   "source": [
    "df['age'].mean()"
   ]
  },
  {
   "cell_type": "code",
   "execution_count": 8,
   "id": "98871907-2206-4785-9a92-f0a3cc567b21",
   "metadata": {},
   "outputs": [
    {
     "data": {
      "text/html": [
       "<div>\n",
       "<style scoped>\n",
       "    .dataframe tbody tr th:only-of-type {\n",
       "        vertical-align: middle;\n",
       "    }\n",
       "\n",
       "    .dataframe tbody tr th {\n",
       "        vertical-align: top;\n",
       "    }\n",
       "\n",
       "    .dataframe thead th {\n",
       "        text-align: right;\n",
       "    }\n",
       "</style>\n",
       "<table border=\"1\" class=\"dataframe\">\n",
       "  <thead>\n",
       "    <tr style=\"text-align: right;\">\n",
       "      <th></th>\n",
       "      <th>age</th>\n",
       "      <th>gender</th>\n",
       "      <th>height_cm</th>\n",
       "      <th>weight_kg</th>\n",
       "      <th>body fat_%</th>\n",
       "      <th>diastolic</th>\n",
       "      <th>systolic</th>\n",
       "      <th>gripForce</th>\n",
       "      <th>sit and bend forward_cm</th>\n",
       "      <th>sit-ups counts</th>\n",
       "      <th>broad jump_cm</th>\n",
       "      <th>class</th>\n",
       "    </tr>\n",
       "  </thead>\n",
       "  <tbody>\n",
       "    <tr>\n",
       "      <th>0</th>\n",
       "      <td>27.0</td>\n",
       "      <td>M</td>\n",
       "      <td>172.3</td>\n",
       "      <td>75.24</td>\n",
       "      <td>21.3</td>\n",
       "      <td>80.0</td>\n",
       "      <td>130.0</td>\n",
       "      <td>54.9</td>\n",
       "      <td>18.4</td>\n",
       "      <td>60.0</td>\n",
       "      <td>217.0</td>\n",
       "      <td>C</td>\n",
       "    </tr>\n",
       "    <tr>\n",
       "      <th>1</th>\n",
       "      <td>25.0</td>\n",
       "      <td>M</td>\n",
       "      <td>165.0</td>\n",
       "      <td>55.80</td>\n",
       "      <td>15.7</td>\n",
       "      <td>77.0</td>\n",
       "      <td>126.0</td>\n",
       "      <td>36.4</td>\n",
       "      <td>16.3</td>\n",
       "      <td>53.0</td>\n",
       "      <td>229.0</td>\n",
       "      <td>A</td>\n",
       "    </tr>\n",
       "    <tr>\n",
       "      <th>2</th>\n",
       "      <td>31.0</td>\n",
       "      <td>M</td>\n",
       "      <td>179.6</td>\n",
       "      <td>78.00</td>\n",
       "      <td>20.1</td>\n",
       "      <td>92.0</td>\n",
       "      <td>152.0</td>\n",
       "      <td>44.8</td>\n",
       "      <td>12.0</td>\n",
       "      <td>49.0</td>\n",
       "      <td>181.0</td>\n",
       "      <td>C</td>\n",
       "    </tr>\n",
       "    <tr>\n",
       "      <th>3</th>\n",
       "      <td>32.0</td>\n",
       "      <td>M</td>\n",
       "      <td>174.5</td>\n",
       "      <td>71.10</td>\n",
       "      <td>18.4</td>\n",
       "      <td>76.0</td>\n",
       "      <td>147.0</td>\n",
       "      <td>41.4</td>\n",
       "      <td>15.2</td>\n",
       "      <td>53.0</td>\n",
       "      <td>219.0</td>\n",
       "      <td>B</td>\n",
       "    </tr>\n",
       "    <tr>\n",
       "      <th>4</th>\n",
       "      <td>28.0</td>\n",
       "      <td>M</td>\n",
       "      <td>173.8</td>\n",
       "      <td>67.70</td>\n",
       "      <td>17.1</td>\n",
       "      <td>70.0</td>\n",
       "      <td>127.0</td>\n",
       "      <td>43.5</td>\n",
       "      <td>27.1</td>\n",
       "      <td>45.0</td>\n",
       "      <td>217.0</td>\n",
       "      <td>B</td>\n",
       "    </tr>\n",
       "  </tbody>\n",
       "</table>\n",
       "</div>"
      ],
      "text/plain": [
       "    age gender  height_cm  weight_kg  body fat_%  diastolic  systolic  \\\n",
       "0  27.0      M      172.3      75.24        21.3       80.0     130.0   \n",
       "1  25.0      M      165.0      55.80        15.7       77.0     126.0   \n",
       "2  31.0      M      179.6      78.00        20.1       92.0     152.0   \n",
       "3  32.0      M      174.5      71.10        18.4       76.0     147.0   \n",
       "4  28.0      M      173.8      67.70        17.1       70.0     127.0   \n",
       "\n",
       "   gripForce  sit and bend forward_cm  sit-ups counts  broad jump_cm class  \n",
       "0       54.9                     18.4            60.0          217.0     C  \n",
       "1       36.4                     16.3            53.0          229.0     A  \n",
       "2       44.8                     12.0            49.0          181.0     C  \n",
       "3       41.4                     15.2            53.0          219.0     B  \n",
       "4       43.5                     27.1            45.0          217.0     B  "
      ]
     },
     "execution_count": 8,
     "metadata": {},
     "output_type": "execute_result"
    }
   ],
   "source": [
    "df.head()"
   ]
  },
  {
   "cell_type": "code",
   "execution_count": 9,
   "id": "f97185ad-ffe2-4556-ae7f-035e4436fb52",
   "metadata": {
    "scrolled": true
   },
   "outputs": [
    {
     "data": {
      "text/html": [
       "<div>\n",
       "<style scoped>\n",
       "    .dataframe tbody tr th:only-of-type {\n",
       "        vertical-align: middle;\n",
       "    }\n",
       "\n",
       "    .dataframe tbody tr th {\n",
       "        vertical-align: top;\n",
       "    }\n",
       "\n",
       "    .dataframe thead th {\n",
       "        text-align: right;\n",
       "    }\n",
       "</style>\n",
       "<table border=\"1\" class=\"dataframe\">\n",
       "  <thead>\n",
       "    <tr style=\"text-align: right;\">\n",
       "      <th></th>\n",
       "      <th>age</th>\n",
       "      <th>gender</th>\n",
       "      <th>height_cm</th>\n",
       "      <th>weight_kg</th>\n",
       "      <th>body fat_%</th>\n",
       "      <th>diastolic</th>\n",
       "      <th>systolic</th>\n",
       "      <th>gripForce</th>\n",
       "      <th>sit and bend forward_cm</th>\n",
       "      <th>sit-ups counts</th>\n",
       "      <th>broad jump_cm</th>\n",
       "      <th>class</th>\n",
       "    </tr>\n",
       "  </thead>\n",
       "  <tbody>\n",
       "    <tr>\n",
       "      <th>13388</th>\n",
       "      <td>25.0</td>\n",
       "      <td>M</td>\n",
       "      <td>172.1</td>\n",
       "      <td>71.8</td>\n",
       "      <td>16.2</td>\n",
       "      <td>74.0</td>\n",
       "      <td>141.0</td>\n",
       "      <td>35.8</td>\n",
       "      <td>17.4</td>\n",
       "      <td>47.0</td>\n",
       "      <td>198.0</td>\n",
       "      <td>C</td>\n",
       "    </tr>\n",
       "    <tr>\n",
       "      <th>13389</th>\n",
       "      <td>21.0</td>\n",
       "      <td>M</td>\n",
       "      <td>179.7</td>\n",
       "      <td>63.9</td>\n",
       "      <td>12.1</td>\n",
       "      <td>74.0</td>\n",
       "      <td>128.0</td>\n",
       "      <td>33.0</td>\n",
       "      <td>1.1</td>\n",
       "      <td>48.0</td>\n",
       "      <td>167.0</td>\n",
       "      <td>D</td>\n",
       "    </tr>\n",
       "    <tr>\n",
       "      <th>13390</th>\n",
       "      <td>39.0</td>\n",
       "      <td>M</td>\n",
       "      <td>177.2</td>\n",
       "      <td>80.5</td>\n",
       "      <td>20.1</td>\n",
       "      <td>78.0</td>\n",
       "      <td>132.0</td>\n",
       "      <td>63.5</td>\n",
       "      <td>16.4</td>\n",
       "      <td>45.0</td>\n",
       "      <td>229.0</td>\n",
       "      <td>A</td>\n",
       "    </tr>\n",
       "    <tr>\n",
       "      <th>13391</th>\n",
       "      <td>64.0</td>\n",
       "      <td>F</td>\n",
       "      <td>146.1</td>\n",
       "      <td>57.7</td>\n",
       "      <td>40.4</td>\n",
       "      <td>68.0</td>\n",
       "      <td>121.0</td>\n",
       "      <td>19.3</td>\n",
       "      <td>9.2</td>\n",
       "      <td>0.0</td>\n",
       "      <td>75.0</td>\n",
       "      <td>D</td>\n",
       "    </tr>\n",
       "    <tr>\n",
       "      <th>13392</th>\n",
       "      <td>34.0</td>\n",
       "      <td>M</td>\n",
       "      <td>164.0</td>\n",
       "      <td>66.1</td>\n",
       "      <td>19.5</td>\n",
       "      <td>82.0</td>\n",
       "      <td>150.0</td>\n",
       "      <td>35.9</td>\n",
       "      <td>7.1</td>\n",
       "      <td>51.0</td>\n",
       "      <td>180.0</td>\n",
       "      <td>C</td>\n",
       "    </tr>\n",
       "  </tbody>\n",
       "</table>\n",
       "</div>"
      ],
      "text/plain": [
       "        age gender  height_cm  weight_kg  body fat_%  diastolic  systolic  \\\n",
       "13388  25.0      M      172.1       71.8        16.2       74.0     141.0   \n",
       "13389  21.0      M      179.7       63.9        12.1       74.0     128.0   \n",
       "13390  39.0      M      177.2       80.5        20.1       78.0     132.0   \n",
       "13391  64.0      F      146.1       57.7        40.4       68.0     121.0   \n",
       "13392  34.0      M      164.0       66.1        19.5       82.0     150.0   \n",
       "\n",
       "       gripForce  sit and bend forward_cm  sit-ups counts  broad jump_cm class  \n",
       "13388       35.8                     17.4            47.0          198.0     C  \n",
       "13389       33.0                      1.1            48.0          167.0     D  \n",
       "13390       63.5                     16.4            45.0          229.0     A  \n",
       "13391       19.3                      9.2             0.0           75.0     D  \n",
       "13392       35.9                      7.1            51.0          180.0     C  "
      ]
     },
     "execution_count": 9,
     "metadata": {},
     "output_type": "execute_result"
    }
   ],
   "source": [
    "df.tail()"
   ]
  },
  {
   "cell_type": "code",
   "execution_count": 10,
   "id": "7a13f608-575e-4722-bd7a-9512b5be6d31",
   "metadata": {},
   "outputs": [
    {
     "data": {
      "text/plain": [
       "Index(['age', 'gender', 'height_cm', 'weight_kg', 'body fat_%', 'diastolic',\n",
       "       'systolic', 'gripForce', 'sit and bend forward_cm', 'sit-ups counts',\n",
       "       'broad jump_cm', 'class'],\n",
       "      dtype='object')"
      ]
     },
     "execution_count": 10,
     "metadata": {},
     "output_type": "execute_result"
    }
   ],
   "source": [
    "df.columns"
   ]
  },
  {
   "cell_type": "code",
   "execution_count": 11,
   "id": "2210ab69-59e7-4c45-a0ec-11ad2b477b19",
   "metadata": {},
   "outputs": [
    {
     "data": {
      "text/plain": [
       "39.77122377361308"
      ]
     },
     "execution_count": 11,
     "metadata": {},
     "output_type": "execute_result"
    }
   ],
   "source": [
    "df['sit-ups counts'].mean()"
   ]
  },
  {
   "cell_type": "code",
   "execution_count": 12,
   "id": "575de42c-d5fb-4d1e-9f3b-e6e4093dcb64",
   "metadata": {},
   "outputs": [
    {
     "data": {
      "text/plain": [
       "0    45.0\n",
       "Name: sit-ups counts, dtype: float64"
      ]
     },
     "execution_count": 12,
     "metadata": {},
     "output_type": "execute_result"
    }
   ],
   "source": [
    "df['sit-ups counts'].mode()"
   ]
  },
  {
   "cell_type": "code",
   "execution_count": 13,
   "id": "fd1e21e6-488d-4141-bfca-10e48a8dbbe1",
   "metadata": {},
   "outputs": [
    {
     "data": {
      "text/plain": [
       "age                        float64\n",
       "gender                      object\n",
       "height_cm                  float64\n",
       "weight_kg                  float64\n",
       "body fat_%                 float64\n",
       "diastolic                  float64\n",
       "systolic                   float64\n",
       "gripForce                  float64\n",
       "sit and bend forward_cm    float64\n",
       "sit-ups counts             float64\n",
       "broad jump_cm              float64\n",
       "class                       object\n",
       "dtype: object"
      ]
     },
     "execution_count": 13,
     "metadata": {},
     "output_type": "execute_result"
    }
   ],
   "source": [
    "df.dtypes"
   ]
  },
  {
   "cell_type": "markdown",
   "id": "1f14a904-4cb6-4445-bae9-71037a463550",
   "metadata": {},
   "source": [
    "# Count the missing values"
   ]
  },
  {
   "cell_type": "code",
   "execution_count": 14,
   "id": "79561e03-c791-4f5b-ac78-c7a46b14134a",
   "metadata": {},
   "outputs": [
    {
     "data": {
      "text/plain": [
       "0"
      ]
     },
     "execution_count": 14,
     "metadata": {},
     "output_type": "execute_result"
    }
   ],
   "source": [
    "df.isnull().sum().sum()"
   ]
  },
  {
   "cell_type": "markdown",
   "id": "5072ac57-31eb-478d-86a5-aa4d179ea68e",
   "metadata": {},
   "source": [
    "# Get the unique values in a specific columns:"
   ]
  },
  {
   "cell_type": "code",
   "execution_count": 15,
   "id": "97718704-53b1-467c-a28a-b631e7cc2d01",
   "metadata": {},
   "outputs": [
    {
     "data": {
      "text/plain": [
       "Index(['age', 'gender', 'height_cm', 'weight_kg', 'body fat_%', 'diastolic',\n",
       "       'systolic', 'gripForce', 'sit and bend forward_cm', 'sit-ups counts',\n",
       "       'broad jump_cm', 'class'],\n",
       "      dtype='object')"
      ]
     },
     "execution_count": 15,
     "metadata": {},
     "output_type": "execute_result"
    }
   ],
   "source": [
    "df.columns"
   ]
  },
  {
   "cell_type": "code",
   "execution_count": 16,
   "id": "45b60f38-1a8b-423d-87dc-c88a1f416b8b",
   "metadata": {
    "scrolled": true
   },
   "outputs": [
    {
     "data": {
      "text/plain": [
       "gender\n",
       "M    8467\n",
       "F    4926\n",
       "Name: count, dtype: int64"
      ]
     },
     "execution_count": 16,
     "metadata": {},
     "output_type": "execute_result"
    }
   ],
   "source": [
    "df[\"gender\"].value_counts()"
   ]
  },
  {
   "cell_type": "markdown",
   "id": "548e0021-e555-4228-b315-d03ba22f4bd0",
   "metadata": {},
   "source": [
    "# Get the number of unique values of each "
   ]
  },
  {
   "cell_type": "code",
   "execution_count": 17,
   "id": "93cb647a-0d75-4d7a-9fab-42479563ff19",
   "metadata": {},
   "outputs": [
    {
     "data": {
      "text/plain": [
       "age                          44\n",
       "gender                        2\n",
       "height_cm                   467\n",
       "weight_kg                  1398\n",
       "body fat_%                  527\n",
       "diastolic                    89\n",
       "systolic                    102\n",
       "gripForce                   550\n",
       "sit and bend forward_cm     528\n",
       "sit-ups counts               81\n",
       "broad jump_cm               245\n",
       "class                         4\n",
       "dtype: int64"
      ]
     },
     "execution_count": 17,
     "metadata": {},
     "output_type": "execute_result"
    }
   ],
   "source": [
    "df.nunique()"
   ]
  },
  {
   "cell_type": "markdown",
   "id": "6cbfb7a7-09d4-4581-b2a5-cd5c594b8bf4",
   "metadata": {},
   "source": [
    "# Check the Duplicate Values and Remove it:"
   ]
  },
  {
   "cell_type": "code",
   "execution_count": 18,
   "id": "fc469458-f1f3-4441-ab0c-e3c81f8df65d",
   "metadata": {},
   "outputs": [
    {
     "data": {
      "text/plain": [
       "1"
      ]
     },
     "execution_count": 18,
     "metadata": {},
     "output_type": "execute_result"
    }
   ],
   "source": [
    "df.duplicated().sum()"
   ]
  },
  {
   "cell_type": "code",
   "execution_count": 19,
   "id": "826d081b-2233-4ba5-abcc-b5501ebef953",
   "metadata": {},
   "outputs": [],
   "source": [
    "df.drop_duplicates(inplace=True)"
   ]
  },
  {
   "cell_type": "code",
   "execution_count": 20,
   "id": "13984e65-138e-4c8b-9271-7df79ffd9688",
   "metadata": {},
   "outputs": [
    {
     "data": {
      "text/plain": [
       "0"
      ]
     },
     "execution_count": 20,
     "metadata": {},
     "output_type": "execute_result"
    }
   ],
   "source": [
    "df.duplicated().sum()"
   ]
  },
  {
   "cell_type": "code",
   "execution_count": 21,
   "id": "573625a9-720f-488e-80f0-1a4f9df627d0",
   "metadata": {},
   "outputs": [
    {
     "data": {
      "text/plain": [
       "(13392, 12)"
      ]
     },
     "execution_count": 21,
     "metadata": {},
     "output_type": "execute_result"
    }
   ],
   "source": [
    "df.shape"
   ]
  },
  {
   "cell_type": "markdown",
   "id": "f1f877a2-9a57-4d86-8c5f-7a415e0c9d10",
   "metadata": {},
   "source": [
    "# How many Numerical and Categorical Data are there:"
   ]
  },
  {
   "cell_type": "code",
   "execution_count": 22,
   "id": "a489ba18-fc5c-4081-86ce-39f73cea7796",
   "metadata": {},
   "outputs": [],
   "source": [
    "numerical = df.select_dtypes(exclude = object)"
   ]
  },
  {
   "cell_type": "code",
   "execution_count": 23,
   "id": "67e0b2f8-26be-49cf-bc00-10a240c2f78f",
   "metadata": {},
   "outputs": [
    {
     "data": {
      "text/html": [
       "<div>\n",
       "<style scoped>\n",
       "    .dataframe tbody tr th:only-of-type {\n",
       "        vertical-align: middle;\n",
       "    }\n",
       "\n",
       "    .dataframe tbody tr th {\n",
       "        vertical-align: top;\n",
       "    }\n",
       "\n",
       "    .dataframe thead th {\n",
       "        text-align: right;\n",
       "    }\n",
       "</style>\n",
       "<table border=\"1\" class=\"dataframe\">\n",
       "  <thead>\n",
       "    <tr style=\"text-align: right;\">\n",
       "      <th></th>\n",
       "      <th>age</th>\n",
       "      <th>height_cm</th>\n",
       "      <th>weight_kg</th>\n",
       "      <th>body fat_%</th>\n",
       "      <th>diastolic</th>\n",
       "      <th>systolic</th>\n",
       "      <th>gripForce</th>\n",
       "      <th>sit and bend forward_cm</th>\n",
       "      <th>sit-ups counts</th>\n",
       "      <th>broad jump_cm</th>\n",
       "    </tr>\n",
       "  </thead>\n",
       "  <tbody>\n",
       "    <tr>\n",
       "      <th>0</th>\n",
       "      <td>27.0</td>\n",
       "      <td>172.3</td>\n",
       "      <td>75.24</td>\n",
       "      <td>21.3</td>\n",
       "      <td>80.0</td>\n",
       "      <td>130.0</td>\n",
       "      <td>54.9</td>\n",
       "      <td>18.4</td>\n",
       "      <td>60.0</td>\n",
       "      <td>217.0</td>\n",
       "    </tr>\n",
       "    <tr>\n",
       "      <th>1</th>\n",
       "      <td>25.0</td>\n",
       "      <td>165.0</td>\n",
       "      <td>55.80</td>\n",
       "      <td>15.7</td>\n",
       "      <td>77.0</td>\n",
       "      <td>126.0</td>\n",
       "      <td>36.4</td>\n",
       "      <td>16.3</td>\n",
       "      <td>53.0</td>\n",
       "      <td>229.0</td>\n",
       "    </tr>\n",
       "    <tr>\n",
       "      <th>2</th>\n",
       "      <td>31.0</td>\n",
       "      <td>179.6</td>\n",
       "      <td>78.00</td>\n",
       "      <td>20.1</td>\n",
       "      <td>92.0</td>\n",
       "      <td>152.0</td>\n",
       "      <td>44.8</td>\n",
       "      <td>12.0</td>\n",
       "      <td>49.0</td>\n",
       "      <td>181.0</td>\n",
       "    </tr>\n",
       "    <tr>\n",
       "      <th>3</th>\n",
       "      <td>32.0</td>\n",
       "      <td>174.5</td>\n",
       "      <td>71.10</td>\n",
       "      <td>18.4</td>\n",
       "      <td>76.0</td>\n",
       "      <td>147.0</td>\n",
       "      <td>41.4</td>\n",
       "      <td>15.2</td>\n",
       "      <td>53.0</td>\n",
       "      <td>219.0</td>\n",
       "    </tr>\n",
       "    <tr>\n",
       "      <th>4</th>\n",
       "      <td>28.0</td>\n",
       "      <td>173.8</td>\n",
       "      <td>67.70</td>\n",
       "      <td>17.1</td>\n",
       "      <td>70.0</td>\n",
       "      <td>127.0</td>\n",
       "      <td>43.5</td>\n",
       "      <td>27.1</td>\n",
       "      <td>45.0</td>\n",
       "      <td>217.0</td>\n",
       "    </tr>\n",
       "    <tr>\n",
       "      <th>...</th>\n",
       "      <td>...</td>\n",
       "      <td>...</td>\n",
       "      <td>...</td>\n",
       "      <td>...</td>\n",
       "      <td>...</td>\n",
       "      <td>...</td>\n",
       "      <td>...</td>\n",
       "      <td>...</td>\n",
       "      <td>...</td>\n",
       "      <td>...</td>\n",
       "    </tr>\n",
       "    <tr>\n",
       "      <th>13388</th>\n",
       "      <td>25.0</td>\n",
       "      <td>172.1</td>\n",
       "      <td>71.80</td>\n",
       "      <td>16.2</td>\n",
       "      <td>74.0</td>\n",
       "      <td>141.0</td>\n",
       "      <td>35.8</td>\n",
       "      <td>17.4</td>\n",
       "      <td>47.0</td>\n",
       "      <td>198.0</td>\n",
       "    </tr>\n",
       "    <tr>\n",
       "      <th>13389</th>\n",
       "      <td>21.0</td>\n",
       "      <td>179.7</td>\n",
       "      <td>63.90</td>\n",
       "      <td>12.1</td>\n",
       "      <td>74.0</td>\n",
       "      <td>128.0</td>\n",
       "      <td>33.0</td>\n",
       "      <td>1.1</td>\n",
       "      <td>48.0</td>\n",
       "      <td>167.0</td>\n",
       "    </tr>\n",
       "    <tr>\n",
       "      <th>13390</th>\n",
       "      <td>39.0</td>\n",
       "      <td>177.2</td>\n",
       "      <td>80.50</td>\n",
       "      <td>20.1</td>\n",
       "      <td>78.0</td>\n",
       "      <td>132.0</td>\n",
       "      <td>63.5</td>\n",
       "      <td>16.4</td>\n",
       "      <td>45.0</td>\n",
       "      <td>229.0</td>\n",
       "    </tr>\n",
       "    <tr>\n",
       "      <th>13391</th>\n",
       "      <td>64.0</td>\n",
       "      <td>146.1</td>\n",
       "      <td>57.70</td>\n",
       "      <td>40.4</td>\n",
       "      <td>68.0</td>\n",
       "      <td>121.0</td>\n",
       "      <td>19.3</td>\n",
       "      <td>9.2</td>\n",
       "      <td>0.0</td>\n",
       "      <td>75.0</td>\n",
       "    </tr>\n",
       "    <tr>\n",
       "      <th>13392</th>\n",
       "      <td>34.0</td>\n",
       "      <td>164.0</td>\n",
       "      <td>66.10</td>\n",
       "      <td>19.5</td>\n",
       "      <td>82.0</td>\n",
       "      <td>150.0</td>\n",
       "      <td>35.9</td>\n",
       "      <td>7.1</td>\n",
       "      <td>51.0</td>\n",
       "      <td>180.0</td>\n",
       "    </tr>\n",
       "  </tbody>\n",
       "</table>\n",
       "<p>13392 rows × 10 columns</p>\n",
       "</div>"
      ],
      "text/plain": [
       "        age  height_cm  weight_kg  body fat_%  diastolic  systolic  gripForce  \\\n",
       "0      27.0      172.3      75.24        21.3       80.0     130.0       54.9   \n",
       "1      25.0      165.0      55.80        15.7       77.0     126.0       36.4   \n",
       "2      31.0      179.6      78.00        20.1       92.0     152.0       44.8   \n",
       "3      32.0      174.5      71.10        18.4       76.0     147.0       41.4   \n",
       "4      28.0      173.8      67.70        17.1       70.0     127.0       43.5   \n",
       "...     ...        ...        ...         ...        ...       ...        ...   \n",
       "13388  25.0      172.1      71.80        16.2       74.0     141.0       35.8   \n",
       "13389  21.0      179.7      63.90        12.1       74.0     128.0       33.0   \n",
       "13390  39.0      177.2      80.50        20.1       78.0     132.0       63.5   \n",
       "13391  64.0      146.1      57.70        40.4       68.0     121.0       19.3   \n",
       "13392  34.0      164.0      66.10        19.5       82.0     150.0       35.9   \n",
       "\n",
       "       sit and bend forward_cm  sit-ups counts  broad jump_cm  \n",
       "0                         18.4            60.0          217.0  \n",
       "1                         16.3            53.0          229.0  \n",
       "2                         12.0            49.0          181.0  \n",
       "3                         15.2            53.0          219.0  \n",
       "4                         27.1            45.0          217.0  \n",
       "...                        ...             ...            ...  \n",
       "13388                     17.4            47.0          198.0  \n",
       "13389                      1.1            48.0          167.0  \n",
       "13390                     16.4            45.0          229.0  \n",
       "13391                      9.2             0.0           75.0  \n",
       "13392                      7.1            51.0          180.0  \n",
       "\n",
       "[13392 rows x 10 columns]"
      ]
     },
     "execution_count": 23,
     "metadata": {},
     "output_type": "execute_result"
    }
   ],
   "source": [
    "numerical"
   ]
  },
  {
   "cell_type": "code",
   "execution_count": 24,
   "id": "9a5611e2-cf89-443d-a628-e08043a14a1e",
   "metadata": {},
   "outputs": [],
   "source": [
    "categorical = df.select_dtypes(include='object')"
   ]
  },
  {
   "cell_type": "code",
   "execution_count": 25,
   "id": "00deddda-7baf-45be-93b6-9cb7072aca7e",
   "metadata": {},
   "outputs": [
    {
     "data": {
      "text/html": [
       "<div>\n",
       "<style scoped>\n",
       "    .dataframe tbody tr th:only-of-type {\n",
       "        vertical-align: middle;\n",
       "    }\n",
       "\n",
       "    .dataframe tbody tr th {\n",
       "        vertical-align: top;\n",
       "    }\n",
       "\n",
       "    .dataframe thead th {\n",
       "        text-align: right;\n",
       "    }\n",
       "</style>\n",
       "<table border=\"1\" class=\"dataframe\">\n",
       "  <thead>\n",
       "    <tr style=\"text-align: right;\">\n",
       "      <th></th>\n",
       "      <th>gender</th>\n",
       "      <th>class</th>\n",
       "    </tr>\n",
       "  </thead>\n",
       "  <tbody>\n",
       "    <tr>\n",
       "      <th>0</th>\n",
       "      <td>M</td>\n",
       "      <td>C</td>\n",
       "    </tr>\n",
       "    <tr>\n",
       "      <th>1</th>\n",
       "      <td>M</td>\n",
       "      <td>A</td>\n",
       "    </tr>\n",
       "    <tr>\n",
       "      <th>2</th>\n",
       "      <td>M</td>\n",
       "      <td>C</td>\n",
       "    </tr>\n",
       "    <tr>\n",
       "      <th>3</th>\n",
       "      <td>M</td>\n",
       "      <td>B</td>\n",
       "    </tr>\n",
       "    <tr>\n",
       "      <th>4</th>\n",
       "      <td>M</td>\n",
       "      <td>B</td>\n",
       "    </tr>\n",
       "    <tr>\n",
       "      <th>...</th>\n",
       "      <td>...</td>\n",
       "      <td>...</td>\n",
       "    </tr>\n",
       "    <tr>\n",
       "      <th>13388</th>\n",
       "      <td>M</td>\n",
       "      <td>C</td>\n",
       "    </tr>\n",
       "    <tr>\n",
       "      <th>13389</th>\n",
       "      <td>M</td>\n",
       "      <td>D</td>\n",
       "    </tr>\n",
       "    <tr>\n",
       "      <th>13390</th>\n",
       "      <td>M</td>\n",
       "      <td>A</td>\n",
       "    </tr>\n",
       "    <tr>\n",
       "      <th>13391</th>\n",
       "      <td>F</td>\n",
       "      <td>D</td>\n",
       "    </tr>\n",
       "    <tr>\n",
       "      <th>13392</th>\n",
       "      <td>M</td>\n",
       "      <td>C</td>\n",
       "    </tr>\n",
       "  </tbody>\n",
       "</table>\n",
       "<p>13392 rows × 2 columns</p>\n",
       "</div>"
      ],
      "text/plain": [
       "      gender class\n",
       "0          M     C\n",
       "1          M     A\n",
       "2          M     C\n",
       "3          M     B\n",
       "4          M     B\n",
       "...      ...   ...\n",
       "13388      M     C\n",
       "13389      M     D\n",
       "13390      M     A\n",
       "13391      F     D\n",
       "13392      M     C\n",
       "\n",
       "[13392 rows x 2 columns]"
      ]
     },
     "execution_count": 25,
     "metadata": {},
     "output_type": "execute_result"
    }
   ],
   "source": [
    "categorical"
   ]
  },
  {
   "cell_type": "markdown",
   "id": "08579051-54a0-4c6c-b59b-aaec5fae5ba5",
   "metadata": {},
   "source": [
    "# MinMax Normalization"
   ]
  },
  {
   "cell_type": "code",
   "execution_count": 26,
   "id": "65809e00-2161-461a-ab56-bb87dbed5be8",
   "metadata": {},
   "outputs": [
    {
     "name": "stdout",
     "output_type": "stream",
     "text": [
      "0.0\n",
      "0.125\n",
      "0.25\n",
      "0.5\n",
      "1.0\n"
     ]
    }
   ],
   "source": [
    "import pandas as pd \n",
    "import numpy as np\n",
    "\n",
    "data=[200,300,400,600,1000]\n",
    "\n",
    "mina=min(data)\n",
    "maxa = max(data)\n",
    "\n",
    "V=0\n",
    "\n",
    "for i in range(0,5): \n",
    "    V=(data[i]-mina)/(maxa-mina)\n",
    "    print(V)"
   ]
  },
  {
   "cell_type": "markdown",
   "id": "91a0677a-ef8a-49d2-8794-544e53106308",
   "metadata": {},
   "source": [
    "# Z-Score Normalization"
   ]
  },
  {
   "cell_type": "code",
   "execution_count": 27,
   "id": "a47250ea-f0c9-4d39-a681-eb42b3ad3506",
   "metadata": {},
   "outputs": [
    {
     "name": "stdout",
     "output_type": "stream",
     "text": [
      "282.842712474619\n",
      "500.0\n",
      "-1.0606601717798212\n",
      "-0.7071067811865475\n",
      "-0.35355339059327373\n",
      "0.35355339059327373\n",
      "1.7677669529663687\n"
     ]
    }
   ],
   "source": [
    "import pandas as pd \n",
    "import numpy as np\n",
    "\n",
    "data=[200,300,400,600,1000]\n",
    "\n",
    "standard_deviation = np.std(data)\n",
    "print(standard_deviation)\n",
    "\n",
    "mean= np.mean(data)\n",
    "print(mean)\n",
    "\n",
    "V=0\n",
    "\n",
    "for i in range(0,5): \n",
    "    V=(data[i]-mean)/standard_deviation\n",
    "    print(V)\n"
   ]
  }
 ],
 "metadata": {
  "kernelspec": {
   "display_name": "Python 3 (ipykernel)",
   "language": "python",
   "name": "python3"
  },
  "language_info": {
   "codemirror_mode": {
    "name": "ipython",
    "version": 3
   },
   "file_extension": ".py",
   "mimetype": "text/x-python",
   "name": "python",
   "nbconvert_exporter": "python",
   "pygments_lexer": "ipython3",
   "version": "3.12.4"
  }
 },
 "nbformat": 4,
 "nbformat_minor": 5
}
