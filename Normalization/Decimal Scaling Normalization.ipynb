{
 "cells": [
  {
   "cell_type": "markdown",
   "id": "49fac8a8-6917-4f4d-8a2c-5d5a528f7a9f",
   "metadata": {},
   "source": [
    "# Decimal Scaling"
   ]
  },
  {
   "cell_type": "markdown",
   "id": "c5cb6e1d-8dc1-458d-ba08-148e4eb22829",
   "metadata": {},
   "source": [
    "## 1.Import The Necessary Library:"
   ]
  },
  {
   "cell_type": "code",
   "execution_count": 11,
   "id": "d2d4f955-3440-40ab-8b65-376d8a7a580a",
   "metadata": {},
   "outputs": [],
   "source": [
    "import pandas as pd\n",
    "import numpy as np\n",
    "from sklearn.preprocessing import FunctionTransformer"
   ]
  },
  {
   "cell_type": "markdown",
   "id": "3c04b019-05b1-4151-a5dd-22e302953f0c",
   "metadata": {},
   "source": [
    "## 2.Create the Dataset:"
   ]
  },
  {
   "cell_type": "code",
   "execution_count": 4,
   "id": "983aca36-d2ac-4093-bb72-3b08158cf72e",
   "metadata": {},
   "outputs": [],
   "source": [
    "data= {\n",
    "    'bedroom':[1,2,3,4,5],\n",
    "    'bathroom':[1,2,2,3,2],\n",
    "    'sqrt_living':[500,1000,1500,2000,2500],\n",
    "    'age of the house':[5,10,15,20,25],\n",
    "    'price':[100000,150000,200000,250000,300000]\n",
    "}"
   ]
  },
  {
   "cell_type": "code",
   "execution_count": 5,
   "id": "dbe1de04-578a-4a94-983f-29b8f2975129",
   "metadata": {},
   "outputs": [],
   "source": [
    "df=pd.DataFrame(data)"
   ]
  },
  {
   "cell_type": "code",
   "execution_count": 6,
   "id": "8cecdaee-c8d3-46af-820f-14468964abf7",
   "metadata": {},
   "outputs": [
    {
     "data": {
      "text/html": [
       "<div>\n",
       "<style scoped>\n",
       "    .dataframe tbody tr th:only-of-type {\n",
       "        vertical-align: middle;\n",
       "    }\n",
       "\n",
       "    .dataframe tbody tr th {\n",
       "        vertical-align: top;\n",
       "    }\n",
       "\n",
       "    .dataframe thead th {\n",
       "        text-align: right;\n",
       "    }\n",
       "</style>\n",
       "<table border=\"1\" class=\"dataframe\">\n",
       "  <thead>\n",
       "    <tr style=\"text-align: right;\">\n",
       "      <th></th>\n",
       "      <th>bedroom</th>\n",
       "      <th>bathroom</th>\n",
       "      <th>sqrt_living</th>\n",
       "      <th>age of the house</th>\n",
       "      <th>price</th>\n",
       "    </tr>\n",
       "  </thead>\n",
       "  <tbody>\n",
       "    <tr>\n",
       "      <th>0</th>\n",
       "      <td>1</td>\n",
       "      <td>1</td>\n",
       "      <td>500</td>\n",
       "      <td>5</td>\n",
       "      <td>100000</td>\n",
       "    </tr>\n",
       "    <tr>\n",
       "      <th>1</th>\n",
       "      <td>2</td>\n",
       "      <td>2</td>\n",
       "      <td>1000</td>\n",
       "      <td>10</td>\n",
       "      <td>150000</td>\n",
       "    </tr>\n",
       "    <tr>\n",
       "      <th>2</th>\n",
       "      <td>3</td>\n",
       "      <td>2</td>\n",
       "      <td>1500</td>\n",
       "      <td>15</td>\n",
       "      <td>200000</td>\n",
       "    </tr>\n",
       "    <tr>\n",
       "      <th>3</th>\n",
       "      <td>4</td>\n",
       "      <td>3</td>\n",
       "      <td>2000</td>\n",
       "      <td>20</td>\n",
       "      <td>250000</td>\n",
       "    </tr>\n",
       "    <tr>\n",
       "      <th>4</th>\n",
       "      <td>5</td>\n",
       "      <td>2</td>\n",
       "      <td>2500</td>\n",
       "      <td>25</td>\n",
       "      <td>300000</td>\n",
       "    </tr>\n",
       "  </tbody>\n",
       "</table>\n",
       "</div>"
      ],
      "text/plain": [
       "   bedroom  bathroom  sqrt_living  age of the house   price\n",
       "0        1         1          500                 5  100000\n",
       "1        2         2         1000                10  150000\n",
       "2        3         2         1500                15  200000\n",
       "3        4         3         2000                20  250000\n",
       "4        5         2         2500                25  300000"
      ]
     },
     "execution_count": 6,
     "metadata": {},
     "output_type": "execute_result"
    }
   ],
   "source": [
    "df"
   ]
  },
  {
   "cell_type": "markdown",
   "id": "a4a2eafa-369b-425a-b4a2-0ff68bf4425f",
   "metadata": {},
   "source": [
    "# Create the Decimal Scaler Library\n"
   ]
  },
  {
   "cell_type": "code",
   "execution_count": 36,
   "id": "3d704297-dda6-49c5-a9bb-bc8677f823ed",
   "metadata": {},
   "outputs": [],
   "source": [
    "def decimal_scaler(X):\n",
    "    max_abv= np.max(np.abs(X))\n",
    "    scale = 10**np.ceil(np.log10(max_abv))\n",
    "    return X/scale"
   ]
  },
  {
   "cell_type": "markdown",
   "id": "110787d4-cf2c-4346-8b2b-fb33087b2f82",
   "metadata": {},
   "source": [
    "# Applying the Decimal Scaling Tcehnique"
   ]
  },
  {
   "cell_type": "code",
   "execution_count": 37,
   "id": "e3790ee3-8de5-4c7b-8eb3-00f370449a2b",
   "metadata": {},
   "outputs": [],
   "source": [
    "transformer = FunctionTransformer(decimal_scaler)"
   ]
  },
  {
   "cell_type": "markdown",
   "id": "0331b19c-a4a9-41c1-8500-03499243e234",
   "metadata": {},
   "source": [
    "# Fit the Data"
   ]
  },
  {
   "cell_type": "code",
   "execution_count": 38,
   "id": "ccb56c5d-d7f1-4fac-b77f-079243b154d3",
   "metadata": {},
   "outputs": [],
   "source": [
    "decimal_scaling = transformer.fit_transform(df)"
   ]
  },
  {
   "cell_type": "markdown",
   "id": "a8f8a6c4-eb38-407b-9525-590c5b41076a",
   "metadata": {},
   "source": [
    "# Output after Decimal Scaling:"
   ]
  },
  {
   "cell_type": "code",
   "execution_count": 39,
   "id": "b7b31132-41ff-4a70-ae15-29911d600b5a",
   "metadata": {},
   "outputs": [
    {
     "data": {
      "text/html": [
       "<div>\n",
       "<style scoped>\n",
       "    .dataframe tbody tr th:only-of-type {\n",
       "        vertical-align: middle;\n",
       "    }\n",
       "\n",
       "    .dataframe tbody tr th {\n",
       "        vertical-align: top;\n",
       "    }\n",
       "\n",
       "    .dataframe thead th {\n",
       "        text-align: right;\n",
       "    }\n",
       "</style>\n",
       "<table border=\"1\" class=\"dataframe\">\n",
       "  <thead>\n",
       "    <tr style=\"text-align: right;\">\n",
       "      <th></th>\n",
       "      <th>bedroom</th>\n",
       "      <th>bathroom</th>\n",
       "      <th>sqrt_living</th>\n",
       "      <th>age of the house</th>\n",
       "      <th>price</th>\n",
       "    </tr>\n",
       "  </thead>\n",
       "  <tbody>\n",
       "    <tr>\n",
       "      <th>0</th>\n",
       "      <td>0.000001</td>\n",
       "      <td>0.000001</td>\n",
       "      <td>0.0005</td>\n",
       "      <td>0.000005</td>\n",
       "      <td>0.10</td>\n",
       "    </tr>\n",
       "    <tr>\n",
       "      <th>1</th>\n",
       "      <td>0.000002</td>\n",
       "      <td>0.000002</td>\n",
       "      <td>0.0010</td>\n",
       "      <td>0.000010</td>\n",
       "      <td>0.15</td>\n",
       "    </tr>\n",
       "    <tr>\n",
       "      <th>2</th>\n",
       "      <td>0.000003</td>\n",
       "      <td>0.000002</td>\n",
       "      <td>0.0015</td>\n",
       "      <td>0.000015</td>\n",
       "      <td>0.20</td>\n",
       "    </tr>\n",
       "    <tr>\n",
       "      <th>3</th>\n",
       "      <td>0.000004</td>\n",
       "      <td>0.000003</td>\n",
       "      <td>0.0020</td>\n",
       "      <td>0.000020</td>\n",
       "      <td>0.25</td>\n",
       "    </tr>\n",
       "    <tr>\n",
       "      <th>4</th>\n",
       "      <td>0.000005</td>\n",
       "      <td>0.000002</td>\n",
       "      <td>0.0025</td>\n",
       "      <td>0.000025</td>\n",
       "      <td>0.30</td>\n",
       "    </tr>\n",
       "  </tbody>\n",
       "</table>\n",
       "</div>"
      ],
      "text/plain": [
       "    bedroom  bathroom  sqrt_living  age of the house  price\n",
       "0  0.000001  0.000001       0.0005          0.000005   0.10\n",
       "1  0.000002  0.000002       0.0010          0.000010   0.15\n",
       "2  0.000003  0.000002       0.0015          0.000015   0.20\n",
       "3  0.000004  0.000003       0.0020          0.000020   0.25\n",
       "4  0.000005  0.000002       0.0025          0.000025   0.30"
      ]
     },
     "execution_count": 39,
     "metadata": {},
     "output_type": "execute_result"
    }
   ],
   "source": [
    "decimal_scaling"
   ]
  },
  {
   "cell_type": "code",
   "execution_count": null,
   "id": "9e10f0ae-7cea-48d2-baf8-c6c918e02b30",
   "metadata": {},
   "outputs": [],
   "source": []
  },
  {
   "cell_type": "code",
   "execution_count": null,
   "id": "d1eb994a-dce1-4e67-ab19-dc33720a24f1",
   "metadata": {},
   "outputs": [],
   "source": []
  }
 ],
 "metadata": {
  "kernelspec": {
   "display_name": "Python 3 (ipykernel)",
   "language": "python",
   "name": "python3"
  },
  "language_info": {
   "codemirror_mode": {
    "name": "ipython",
    "version": 3
   },
   "file_extension": ".py",
   "mimetype": "text/x-python",
   "name": "python",
   "nbconvert_exporter": "python",
   "pygments_lexer": "ipython3",
   "version": "3.12.4"
  }
 },
 "nbformat": 4,
 "nbformat_minor": 5
}
