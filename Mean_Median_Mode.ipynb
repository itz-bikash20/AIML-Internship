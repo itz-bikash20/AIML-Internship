{
 "cells": [
  {
   "cell_type": "code",
   "execution_count": 4,
   "id": "d2eda4c3-19aa-43f9-acaf-1f23d57bfc13",
   "metadata": {},
   "outputs": [
    {
     "name": "stdout",
     "output_type": "stream",
     "text": [
      "Requirement already satisfied: numpy in c:\\users\\bikas\\appdata\\local\\programs\\python\\python312\\lib\\site-packages (1.26.4)\n",
      "Note: you may need to restart the kernel to use updated packages.\n"
     ]
    }
   ],
   "source": [
    "pip install numpy"
   ]
  },
  {
   "cell_type": "code",
   "execution_count": 1,
   "id": "7d8fd17c-3f50-44a2-8903-7824a7088581",
   "metadata": {},
   "outputs": [],
   "source": [
    "import numpy as np"
   ]
  },
  {
   "cell_type": "markdown",
   "id": "e078c879-1844-4266-8fdc-07e1cfd0d16f",
   "metadata": {},
   "source": [
    "### Insert the data "
   ]
  },
  {
   "cell_type": "code",
   "execution_count": 2,
   "id": "cb73ac47-7bf1-4803-9227-71bdaa14ad08",
   "metadata": {},
   "outputs": [
    {
     "name": "stdout",
     "output_type": "stream",
     "text": [
      "33.714285714285715\n"
     ]
    }
   ],
   "source": [
    "import numpy as np\n",
    "data=[30,32,40,24,56,20,34]\n",
    "mean=np.mean(data)\n",
    "print(mean)"
   ]
  },
  {
   "cell_type": "code",
   "execution_count": 2,
   "id": "c0fac135-f9e2-4575-94aa-5768335cb46e",
   "metadata": {},
   "outputs": [
    {
     "name": "stdout",
     "output_type": "stream",
     "text": [
      "33.714285714285715\n"
     ]
    }
   ],
   "source": [
    "import numpy as np\n",
    "data=[30,32,40,24,56,20,34]\n",
    "mean=np.mean(data)\n",
    "print(mean)"
   ]
  },
  {
   "cell_type": "code",
   "execution_count": 3,
   "id": "6a21728a-5f8a-45e7-a0ce-782639b4e139",
   "metadata": {},
   "outputs": [
    {
     "name": "stdout",
     "output_type": "stream",
     "text": [
      "32.0\n"
     ]
    }
   ],
   "source": [
    "import numpy as np\n",
    "data=[30,32,40,24,56,20,34]\n",
    "median=np.median(data)\n",
    "print(median)"
   ]
  },
  {
   "cell_type": "code",
   "execution_count": 4,
   "id": "f6b6b2e0-da86-49ba-8bb3-1aa663d03e66",
   "metadata": {},
   "outputs": [
    {
     "name": "stdout",
     "output_type": "stream",
     "text": [
      "20\n"
     ]
    }
   ],
   "source": [
    "import numpy as np\n",
    "data=[30,32,40,24,56,20,34]\n",
    "mode=np.bincount(data).argmax()\n",
    "print(mode)"
   ]
  },
  {
   "cell_type": "markdown",
   "id": "b643ccfd-8528-4d74-9cc7-fd909f2f75ba",
   "metadata": {},
   "source": [
    "### Create a csv file"
   ]
  },
  {
   "cell_type": "code",
   "execution_count": 6,
   "id": "5546d444-8936-4001-8d5d-cde5b1ac0bdc",
   "metadata": {},
   "outputs": [
    {
     "name": "stdout",
     "output_type": "stream",
     "text": [
      "Collecting pandas\n",
      "  Downloading pandas-2.2.2-cp312-cp312-win_amd64.whl.metadata (19 kB)\n",
      "Requirement already satisfied: numpy>=1.26.0 in c:\\users\\bikas\\appdata\\local\\programs\\python\\python312\\lib\\site-packages (from pandas) (1.26.4)\n",
      "Requirement already satisfied: python-dateutil>=2.8.2 in c:\\users\\bikas\\appdata\\local\\programs\\python\\python312\\lib\\site-packages (from pandas) (2.9.0.post0)\n",
      "Collecting pytz>=2020.1 (from pandas)\n",
      "  Using cached pytz-2024.1-py2.py3-none-any.whl.metadata (22 kB)\n",
      "Collecting tzdata>=2022.7 (from pandas)\n",
      "  Using cached tzdata-2024.1-py2.py3-none-any.whl.metadata (1.4 kB)\n",
      "Requirement already satisfied: six>=1.5 in c:\\users\\bikas\\appdata\\local\\programs\\python\\python312\\lib\\site-packages (from python-dateutil>=2.8.2->pandas) (1.16.0)\n",
      "Downloading pandas-2.2.2-cp312-cp312-win_amd64.whl (11.5 MB)\n",
      "   ---------------------------------------- 0.0/11.5 MB ? eta -:--:--\n",
      "   ---------------------------------------- 0.0/11.5 MB ? eta -:--:--\n",
      "   ---------------------------------------- 0.0/11.5 MB 653.6 kB/s eta 0:00:18\n",
      "   ---------------------------------------- 0.1/11.5 MB 1.2 MB/s eta 0:00:10\n",
      "    --------------------------------------- 0.2/11.5 MB 1.7 MB/s eta 0:00:07\n",
      "   - -------------------------------------- 0.5/11.5 MB 2.5 MB/s eta 0:00:05\n",
      "   --- ------------------------------------ 0.9/11.5 MB 3.7 MB/s eta 0:00:03\n",
      "   --- ------------------------------------ 1.1/11.5 MB 4.0 MB/s eta 0:00:03\n",
      "   ------ --------------------------------- 1.8/11.5 MB 5.5 MB/s eta 0:00:02\n",
      "   -------- ------------------------------- 2.4/11.5 MB 6.4 MB/s eta 0:00:02\n",
      "   ---------- ----------------------------- 3.1/11.5 MB 7.4 MB/s eta 0:00:02\n",
      "   ---------- ----------------------------- 3.1/11.5 MB 7.4 MB/s eta 0:00:02\n",
      "   ----------- ---------------------------- 3.4/11.5 MB 6.6 MB/s eta 0:00:02\n",
      "   ------------- -------------------------- 4.0/11.5 MB 7.0 MB/s eta 0:00:02\n",
      "   ---------------- ----------------------- 4.8/11.5 MB 7.9 MB/s eta 0:00:01\n",
      "   -------------------- ------------------- 5.8/11.5 MB 8.9 MB/s eta 0:00:01\n",
      "   ----------------------- ---------------- 6.9/11.5 MB 9.8 MB/s eta 0:00:01\n",
      "   --------------------------- ------------ 8.0/11.5 MB 10.7 MB/s eta 0:00:01\n",
      "   ---------------------------- ----------- 8.1/11.5 MB 10.8 MB/s eta 0:00:01\n",
      "   ------------------------------ --------- 8.7/11.5 MB 10.3 MB/s eta 0:00:01\n",
      "   --------------------------------- ------ 9.7/11.5 MB 10.9 MB/s eta 0:00:01\n",
      "   ------------------------------------- -- 10.8/11.5 MB 13.9 MB/s eta 0:00:01\n",
      "   ---------------------------------------  11.5/11.5 MB 15.2 MB/s eta 0:00:01\n",
      "   ---------------------------------------- 11.5/11.5 MB 14.6 MB/s eta 0:00:00\n",
      "Using cached pytz-2024.1-py2.py3-none-any.whl (505 kB)\n",
      "Using cached tzdata-2024.1-py2.py3-none-any.whl (345 kB)\n",
      "Installing collected packages: pytz, tzdata, pandas\n",
      "Successfully installed pandas-2.2.2 pytz-2024.1 tzdata-2024.1\n",
      "Note: you may need to restart the kernel to use updated packages.\n"
     ]
    }
   ],
   "source": [
    "pip install pandas\n"
   ]
  },
  {
   "cell_type": "code",
   "execution_count": 10,
   "id": "4af02249-cbbe-4d18-93c1-718db5b346d1",
   "metadata": {},
   "outputs": [],
   "source": [
    "import pandas as pd\n",
    "data = {\n",
    "    'name':['rasi','susi','ajay','harsha','chinu'],\n",
    "    'height':[175,289,445,23,544],\n",
    "    'age':[22,33,44,55,66]\n",
    "}\n",
    "df = pd.DataFrame(data)\n",
    "df.to_csv('data.csv')"
   ]
  },
  {
   "cell_type": "code",
   "execution_count": 11,
   "id": "8f64b105-db24-4c4f-b95b-868eff7e12f1",
   "metadata": {},
   "outputs": [
    {
     "data": {
      "text/html": [
       "<div>\n",
       "<style scoped>\n",
       "    .dataframe tbody tr th:only-of-type {\n",
       "        vertical-align: middle;\n",
       "    }\n",
       "\n",
       "    .dataframe tbody tr th {\n",
       "        vertical-align: top;\n",
       "    }\n",
       "\n",
       "    .dataframe thead th {\n",
       "        text-align: right;\n",
       "    }\n",
       "</style>\n",
       "<table border=\"1\" class=\"dataframe\">\n",
       "  <thead>\n",
       "    <tr style=\"text-align: right;\">\n",
       "      <th></th>\n",
       "      <th>name</th>\n",
       "      <th>height</th>\n",
       "      <th>age</th>\n",
       "    </tr>\n",
       "  </thead>\n",
       "  <tbody>\n",
       "    <tr>\n",
       "      <th>0</th>\n",
       "      <td>rasi</td>\n",
       "      <td>175</td>\n",
       "      <td>22</td>\n",
       "    </tr>\n",
       "    <tr>\n",
       "      <th>1</th>\n",
       "      <td>susi</td>\n",
       "      <td>289</td>\n",
       "      <td>33</td>\n",
       "    </tr>\n",
       "    <tr>\n",
       "      <th>2</th>\n",
       "      <td>ajay</td>\n",
       "      <td>445</td>\n",
       "      <td>44</td>\n",
       "    </tr>\n",
       "    <tr>\n",
       "      <th>3</th>\n",
       "      <td>harsha</td>\n",
       "      <td>23</td>\n",
       "      <td>55</td>\n",
       "    </tr>\n",
       "    <tr>\n",
       "      <th>4</th>\n",
       "      <td>chinu</td>\n",
       "      <td>544</td>\n",
       "      <td>66</td>\n",
       "    </tr>\n",
       "  </tbody>\n",
       "</table>\n",
       "</div>"
      ],
      "text/plain": [
       "     name  height  age\n",
       "0    rasi     175   22\n",
       "1    susi     289   33\n",
       "2    ajay     445   44\n",
       "3  harsha      23   55\n",
       "4   chinu     544   66"
      ]
     },
     "execution_count": 11,
     "metadata": {},
     "output_type": "execute_result"
    }
   ],
   "source": [
    "df"
   ]
  },
  {
   "cell_type": "code",
   "execution_count": 1,
   "id": "69396485-fe8a-4516-b1c0-4965558ee3dd",
   "metadata": {},
   "outputs": [
    {
     "name": "stdout",
     "output_type": "stream",
     "text": [
      "4.656984002549289\n"
     ]
    }
   ],
   "source": [
    "import numpy as np\n",
    "data=[8,10,15,20]\n",
    "standard_deviation = np.std(data)\n",
    "print(standard_deviation)"
   ]
  },
  {
   "cell_type": "code",
   "execution_count": null,
   "id": "43b083aa-28fc-4e35-a436-de6ba45eda64",
   "metadata": {},
   "outputs": [],
   "source": []
  }
 ],
 "metadata": {
  "kernelspec": {
   "display_name": "Python 3 (ipykernel)",
   "language": "python",
   "name": "python3"
  },
  "language_info": {
   "codemirror_mode": {
    "name": "ipython",
    "version": 3
   },
   "file_extension": ".py",
   "mimetype": "text/x-python",
   "name": "python",
   "nbconvert_exporter": "python",
   "pygments_lexer": "ipython3",
   "version": "3.12.4"
  }
 },
 "nbformat": 4,
 "nbformat_minor": 5
}
