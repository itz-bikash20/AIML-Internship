{
 "cells": [
  {
   "cell_type": "markdown",
   "id": "d3a5e2ee-3755-4fbe-b37d-ef8edfca6120",
   "metadata": {},
   "source": [
    "# 2.Z-Score Normalization"
   ]
  },
  {
   "cell_type": "markdown",
   "id": "2bb93a4b-1695-4303-a0cf-0c8b915ca4bf",
   "metadata": {},
   "source": [
    "## 1.1 Import the Necessary Libraries"
   ]
  },
  {
   "cell_type": "code",
   "execution_count": 1,
   "id": "b82fd80b-ba7a-41f6-ae14-7ce8a9689678",
   "metadata": {},
   "outputs": [],
   "source": [
    "import pandas as pd\n",
    "from sklearn.preprocessing import StandardScaler"
   ]
  },
  {
   "cell_type": "markdown",
   "id": "48ba8181-5db6-4f70-806f-3e2ae54ade89",
   "metadata": {},
   "source": [
    "## 1.2 Create the Dataset"
   ]
  },
  {
   "cell_type": "code",
   "execution_count": 2,
   "id": "0f40906e-2ce2-46a4-98f0-81e1d5de45db",
   "metadata": {},
   "outputs": [],
   "source": [
    "data= {\n",
    "    'bedroom':[1,2,3,4,5],\n",
    "    'bathroom':[1,2,2,3,2],\n",
    "    'sqrt_living':[500,1000,1500,2000,2500],\n",
    "    'age of the house':[5,10,15,20,25],\n",
    "    'price':[100000,150000,200000,250000,300000]\n",
    "}"
   ]
  },
  {
   "cell_type": "code",
   "execution_count": 3,
   "id": "8f354d53-9392-4f5f-baeb-2eae3947085e",
   "metadata": {},
   "outputs": [],
   "source": [
    "df=pd.DataFrame(data)"
   ]
  },
  {
   "cell_type": "markdown",
   "id": "124fe174-26bf-4cc7-96a0-e4e2516e53e2",
   "metadata": {},
   "source": [
    "## 1.3 Apply the Z-Score Normalization"
   ]
  },
  {
   "cell_type": "code",
   "execution_count": 20,
   "id": "e06c59f9-d081-44c4-aa56-deddf234b3ff",
   "metadata": {},
   "outputs": [],
   "source": [
    "scaler = StandardScaler()"
   ]
  },
  {
   "cell_type": "markdown",
   "id": "ce1bd881-39e4-4fab-8987-2bc8e0ef9e6c",
   "metadata": {},
   "source": [
    "## 1.4 Fit"
   ]
  },
  {
   "cell_type": "code",
   "execution_count": 21,
   "id": "77c29834-4b5a-44bb-9476-b407ba1af467",
   "metadata": {},
   "outputs": [],
   "source": [
    "normalized_data=scaler.fit_transform(df)"
   ]
  },
  {
   "cell_type": "code",
   "execution_count": 22,
   "id": "b3f60a45-f948-4758-819d-b296e42f5e54",
   "metadata": {},
   "outputs": [
    {
     "data": {
      "text/plain": [
       "array([[-1.41421356, -1.58113883, -1.41421356, -1.41421356, -1.41421356],\n",
       "       [-0.70710678,  0.        , -0.70710678, -0.70710678, -0.70710678],\n",
       "       [ 0.        ,  0.        ,  0.        ,  0.        ,  0.        ],\n",
       "       [ 0.70710678,  1.58113883,  0.70710678,  0.70710678,  0.70710678],\n",
       "       [ 1.41421356,  0.        ,  1.41421356,  1.41421356,  1.41421356]])"
      ]
     },
     "execution_count": 22,
     "metadata": {},
     "output_type": "execute_result"
    }
   ],
   "source": [
    "normalized_data"
   ]
  },
  {
   "cell_type": "markdown",
   "id": "e9ed1305-6868-4a89-818e-d8075a7e6548",
   "metadata": {},
   "source": [
    "## 1.5 Converting the Array to DataFrame"
   ]
  },
  {
   "cell_type": "code",
   "execution_count": 23,
   "id": "7794ea1a-fe4d-4b35-83af-fb9d2cf01a41",
   "metadata": {},
   "outputs": [],
   "source": [
    "normalized_convert=pd.DataFrame(normalized_data,columns=df.columns)"
   ]
  },
  {
   "cell_type": "code",
   "execution_count": 24,
   "id": "a7a0b96a-39b4-45aa-b5fe-e05952457a4d",
   "metadata": {},
   "outputs": [
    {
     "data": {
      "text/html": [
       "<div>\n",
       "<style scoped>\n",
       "    .dataframe tbody tr th:only-of-type {\n",
       "        vertical-align: middle;\n",
       "    }\n",
       "\n",
       "    .dataframe tbody tr th {\n",
       "        vertical-align: top;\n",
       "    }\n",
       "\n",
       "    .dataframe thead th {\n",
       "        text-align: right;\n",
       "    }\n",
       "</style>\n",
       "<table border=\"1\" class=\"dataframe\">\n",
       "  <thead>\n",
       "    <tr style=\"text-align: right;\">\n",
       "      <th></th>\n",
       "      <th>bedroom</th>\n",
       "      <th>bathroom</th>\n",
       "      <th>sqrt_living</th>\n",
       "      <th>age of the house</th>\n",
       "      <th>price</th>\n",
       "    </tr>\n",
       "  </thead>\n",
       "  <tbody>\n",
       "    <tr>\n",
       "      <th>0</th>\n",
       "      <td>-1.414214</td>\n",
       "      <td>-1.581139</td>\n",
       "      <td>-1.414214</td>\n",
       "      <td>-1.414214</td>\n",
       "      <td>-1.414214</td>\n",
       "    </tr>\n",
       "    <tr>\n",
       "      <th>1</th>\n",
       "      <td>-0.707107</td>\n",
       "      <td>0.000000</td>\n",
       "      <td>-0.707107</td>\n",
       "      <td>-0.707107</td>\n",
       "      <td>-0.707107</td>\n",
       "    </tr>\n",
       "    <tr>\n",
       "      <th>2</th>\n",
       "      <td>0.000000</td>\n",
       "      <td>0.000000</td>\n",
       "      <td>0.000000</td>\n",
       "      <td>0.000000</td>\n",
       "      <td>0.000000</td>\n",
       "    </tr>\n",
       "    <tr>\n",
       "      <th>3</th>\n",
       "      <td>0.707107</td>\n",
       "      <td>1.581139</td>\n",
       "      <td>0.707107</td>\n",
       "      <td>0.707107</td>\n",
       "      <td>0.707107</td>\n",
       "    </tr>\n",
       "    <tr>\n",
       "      <th>4</th>\n",
       "      <td>1.414214</td>\n",
       "      <td>0.000000</td>\n",
       "      <td>1.414214</td>\n",
       "      <td>1.414214</td>\n",
       "      <td>1.414214</td>\n",
       "    </tr>\n",
       "  </tbody>\n",
       "</table>\n",
       "</div>"
      ],
      "text/plain": [
       "    bedroom  bathroom  sqrt_living  age of the house     price\n",
       "0 -1.414214 -1.581139    -1.414214         -1.414214 -1.414214\n",
       "1 -0.707107  0.000000    -0.707107         -0.707107 -0.707107\n",
       "2  0.000000  0.000000     0.000000          0.000000  0.000000\n",
       "3  0.707107  1.581139     0.707107          0.707107  0.707107\n",
       "4  1.414214  0.000000     1.414214          1.414214  1.414214"
      ]
     },
     "execution_count": 24,
     "metadata": {},
     "output_type": "execute_result"
    }
   ],
   "source": [
    "normalized_convert"
   ]
  },
  {
   "cell_type": "code",
   "execution_count": null,
   "id": "5d3d3d4e-eae1-4b08-a505-c04661497c1e",
   "metadata": {},
   "outputs": [],
   "source": []
  }
 ],
 "metadata": {
  "kernelspec": {
   "display_name": "Python 3 (ipykernel)",
   "language": "python",
   "name": "python3"
  },
  "language_info": {
   "codemirror_mode": {
    "name": "ipython",
    "version": 3
   },
   "file_extension": ".py",
   "mimetype": "text/x-python",
   "name": "python",
   "nbconvert_exporter": "python",
   "pygments_lexer": "ipython3",
   "version": "3.12.4"
  }
 },
 "nbformat": 4,
 "nbformat_minor": 5
}
